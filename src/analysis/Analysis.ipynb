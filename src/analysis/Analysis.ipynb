{
 "cells": [
  {
   "cell_type": "markdown",
   "metadata": {},
   "source": [
    "# CS289A Project F: Random Forest"
   ]
  },
  {
   "cell_type": "code",
   "execution_count": 1,
   "metadata": {},
   "outputs": [],
   "source": [
    "from collections import Counter\n",
    "import numpy as np\n",
    "from numpy import genfromtxt\n",
    "import matplotlib.pyplot as plt\n",
    "import scipy.io\n",
    "from scipy import stats\n",
    "from sklearn.tree import DecisionTreeClassifier, export_graphviz\n",
    "from sklearn.ensemble import RandomForestClassifier, GradientBoostingClassifier, AdaBoostClassifier\n",
    "from sklearn.base import BaseEstimator, ClassifierMixin\n",
    "from sklearn.model_selection import cross_val_score\n",
    "from sklearn.metrics import accuracy_score\n",
    "import pandas as pd\n",
    "import random\n",
    "random.seed(246810)\n",
    "np.random.seed(246810)\n",
    "import warnings\n",
    "warnings.filterwarnings('ignore')\n"
   ]
  },
  {
   "cell_type": "code",
   "execution_count": 2,
   "metadata": {},
   "outputs": [],
   "source": [
    "eps = 1e-5  # a small number\n",
    "# Vectorized function for hashing for np efficiency\n",
    "def w(x):\n",
    "    return np.int(hash(x)) % 1000\n",
    "\n",
    "h = np.vectorize(w)\n"
   ]
  },
  {
   "cell_type": "markdown",
   "metadata": {},
   "source": [
    "## 1. Set up dataset"
   ]
  },
  {
   "cell_type": "code",
   "execution_count": 23,
   "metadata": {},
   "outputs": [],
   "source": [
    "# some scripts to merge the SW time and HW time + features CSV files\n",
    "# no need to run again !!\n",
    "\n",
    "# path_chstone= '../data/baseline_chstone.csv'\n",
    "# chstone = pd.read_csv(path_chstone, delimiter=',')\n",
    "\n",
    "# path_random = '../data/baseline_random.csv'\n",
    "# random = pd.read_csv(path_random, delimiter=',')\n",
    "# random.sort_values(by = ['program'])\n",
    "\n",
    "# random_sw=pd.read_csv('../data/sw_perf_random.csv', delimiter=',')\n",
    "# chstone_sw=pd.read_csv('../data/sw_perf_chstone.csv', delimiter=',')\n",
    "\n",
    "# merged_random = random.merge(random_sw, left_on='program', right_on='program')\n",
    "# merged_chstone = chstone.merge(chstone_sw, left_on='program', right_on='program')\n",
    "\n",
    "# merged_random.to_csv('../data/final_random.csv', index=False)\n",
    "# merged_chstone.to_csv('../data/final_chstone.csv',index=False)\n"
   ]
  },
  {
   "cell_type": "code",
   "execution_count": 3,
   "metadata": {},
   "outputs": [],
   "source": [
    "dataset = \"csmith_random_programs\"\n",
    "data = pd.read_csv('../data/final_random.csv', delimiter=',')"
   ]
  },
  {
   "cell_type": "markdown",
   "metadata": {},
   "source": [
    "### Part (a). Pre-process the data\n"
   ]
  },
  {
   "cell_type": "code",
   "execution_count": 4,
   "metadata": {},
   "outputs": [
    {
     "name": "stdout",
     "output_type": "stream",
     "text": [
      "(9011, 116)\n",
      "(3862, 116)\n",
      "(12873, 116)\n",
      "[2915.27039334195 3064.5126890095776 3127.9902745113 ...\n",
      " 2596.5991783791956 2804.3891404735623 3077.551395099053]\n"
     ]
    }
   ],
   "source": [
    "# set out training set to be 70% of total; 30% \n",
    "# random_idx = random.randint(0, np.shape(data)[0]) #27\n",
    "num_train = round(np.shape(data)[0]*0.7)\n",
    "train_data = data.values[0:num_train,:]\n",
    "test_data =  data.values[num_train:, :]\n",
    "print(np.shape(train_data))\n",
    "print(np.shape(test_data))\n",
    "print(np.shape(data))\n",
    "\n",
    "train_speedup = (train_data[:, -1] / train_data[:, 2]) # \n",
    "test_speedup = (test_data[:, -1] / test_data[:, 2]) # -O3\n",
    "print(train_speedup)\n",
    "# log_train_speedup = np.log10(train_speedup.astype(float))\n",
    "# log_test_speedup = np.log10(test_speedup.astype(float))\n"
   ]
  },
  {
   "cell_type": "code",
   "execution_count": 121,
   "metadata": {},
   "outputs": [
    {
     "data": {
      "image/png": "[encoded data removed]",
      "text/plain": [
       "<Figure size 432x288 with 1 Axes>"
      ]
     },
     "metadata": {},
     "output_type": "display_data"
    }
   ],
   "source": [
    "# EDA of speed up from training set\n",
    "plt.style.use('seaborn-whitegrid')\n",
    "plt.style.use('ggplot')\n",
    "plt.hist(train_speedup, bins=100, range =(0, 7000))\n",
    "plt.hist(test_speedup, bins=100, range = (0, 7000))\n",
    "\n",
    "plt.show()\n"
   ]
  },
  {
   "cell_type": "code",
   "execution_count": 5,
   "metadata": {},
   "outputs": [
    {
     "name": "stdout",
     "output_type": "stream",
     "text": [
      "0.5433359227610698\n",
      "0.5468669083376488\n"
     ]
    }
   ],
   "source": [
    "# Get binary preduction output: is speedup (HW vs SW) > 2800 \n",
    "y = (train_speedup > 2800).astype(int)\n",
    "X = train_data[:,-57:-1]\n",
    "y_test = (test_speedup > 2800).astype(int)\n",
    "X_test = test_data[:,-57:-1]\n",
    "print(np.count_nonzero(y) / len(y))\n",
    "print(np.count_nonzero(y_test) / len(y_test))\n",
    "assert(len(y) == np.shape(train_data)[0])\n",
    "assert(len(y_test) == np.shape(test_data)[0] )\n",
    "\n",
    "features = data.columns.values[-57:-1]\n",
    "assert len(features) == 56\n",
    "class_names = [\"On-Chip\", \"Not On-Chip\"]"
   ]
  },
  {
   "cell_type": "code",
   "execution_count": 6,
   "metadata": {},
   "outputs": [],
   "source": [
    "def evaluate(clf, print_splits=True):\n",
    "    print(\"Cross validation\", cross_val_score(clf, X, y, cv=3))\n",
    "    if hasattr(clf, \"decision_trees\"):\n",
    "        counter = Counter([t.tree_.feature[0] for t in clf.decision_trees])\n",
    "        first_splits = [\n",
    "            (features[term[0]], term[1]) for term in counter.most_common()\n",
    "        ]\n",
    "        if print_splits == True:\n",
    "            print(\"First splits\", first_splits)"
   ]
  },
  {
   "cell_type": "code",
   "execution_count": 7,
   "metadata": {},
   "outputs": [
    {
     "name": "stdout",
     "output_type": "stream",
     "text": [
      "==============================================\n",
      "sklearn's decision tree\n",
      "Cross validation [0.76464714 0.76198402 0.78354978]\n"
     ]
    }
   ],
   "source": [
    "\n",
    "# \n",
    "# Basic decision tree\n",
    "print('==============================================')\n",
    "print(\"sklearn's decision tree\")\n",
    "params = {\n",
    "    \"max_depth\": 5,\n",
    "    \"min_samples_leaf\": 20,\n",
    "}\n",
    "clf = DecisionTreeClassifier(random_state=0, **params)\n",
    "clf.fit(X, y)\n",
    "evaluate(clf, print_splits=True)"
   ]
  },
  {
   "cell_type": "code",
   "execution_count": 144,
   "metadata": {},
   "outputs": [],
   "source": [
    "from pydot import graph_from_dot_data\n",
    "import io\n",
    "out = io.StringIO()\n",
    "export_graphviz(clf, out_file=out, feature_names=features, class_names=class_names)\n",
    "# For OSX, may need the following for dot: brew install gprof2dot\n",
    "graph = graph_from_dot_data(out.getvalue())\n",
    "graph_from_dot_data(out.getvalue())[0].write_pdf(\"{}-tree-depth{}.pdf\".format(dataset, max_depth))"
   ]
  },
  {
   "cell_type": "code",
   "execution_count": 145,
   "metadata": {},
   "outputs": [],
   "source": [
    "class BaggedTrees(BaseEstimator, ClassifierMixin):\n",
    "\n",
    "    def __init__(self, params=None, n=200):\n",
    "        if params is None:\n",
    "            params = {}\n",
    "        self.params = params\n",
    "        self.n = n\n",
    "        self.decision_trees = [\n",
    "            DecisionTreeClassifier(random_state=i, **self.params) for i in range(self.n)\n",
    "        ]\n",
    "\n",
    "    def fit(self, X, y):\n",
    "        for i in range(self.n):\n",
    "            idx = np.random.randint(0, X.shape[0], X.shape[0])\n",
    "            newX, newy = X[idx, :], y[idx]\n",
    "            self.decision_trees[i].fit(newX, newy)\n",
    "        return self\n",
    "\n",
    "    def predict(self, X):\n",
    "        yhat = [self.decision_trees[i].predict(X) for i in range(self.n)]\n",
    "        # TODO: compute yhat_avg for BaggedTrees\n",
    "        ### start code ###\n",
    "        yhat_avg = np.round(np.mean(yhat, axis=0), decimals=0)\n",
    "        ### end code ###\n",
    "        return yhat_avg\n",
    "# Bagged trees\n",
    "# print(\" bagged trees\")\n",
    "# bt = BaggedTrees(params, n=N)\n",
    "# bt.fit(X, y)\n",
    "# evaluate(bt)"
   ]
  },
  {
   "cell_type": "code",
   "execution_count": null,
   "metadata": {},
   "outputs": [],
   "source": []
  },
  {
   "cell_type": "code",
   "execution_count": 147,
   "metadata": {},
   "outputs": [],
   "source": [
    "class RandomForest(BaggedTrees):\n",
    "\n",
    "    def __init__(self, params=None, n=200, m=1):\n",
    "        if params is None:\n",
    "            params = {}\n",
    "        params['max_features'] = m\n",
    "        super().__init__(params=params, n=n)"
   ]
  },
  {
   "cell_type": "code",
   "execution_count": 148,
   "metadata": {},
   "outputs": [],
   "source": [
    "class BoostedRandomForest(RandomForest):\n",
    "\n",
    "    def fit(self, X, y):\n",
    "        self.w = np.ones(X.shape[0]) / X.shape[0]  # Weights on data\n",
    "        self.a = np.zeros(self.n)  # Weights on decision trees\n",
    "        i = 0\n",
    "        while i < self.n:\n",
    "            idx = np.random.choice(X.shape[0], size=X.shape[0], p=self.w)\n",
    "            newX, newy = X[idx, :], y[idx]\n",
    "            self.decision_trees[i].fit(newX, newy)\n",
    "            wrong = np.abs((y - self.decision_trees[i].predict(X)))\n",
    "            error = wrong.dot(self.w) / np.sum(self.w)\n",
    "            self.a[i] = 0.5 * np.log((1 - error) / error)\n",
    "            # Update w\n",
    "            wrong_idx = np.where(wrong > 0.5)[0]\n",
    "            right_idx = np.where(wrong <= 0.5)[0]\n",
    "            # TODO: fill in the code for updating 'self.w'\n",
    "            \n",
    "            ### start code ###\n",
    "            self.w[wrong_idx] = self.w[wrong_idx]*np.exp(self.a[i])\n",
    "            self.w[right_idx] = self.w[right_idx]*np.exp(-self.a[i])\n",
    "            self.w = self.w / sum(self.w)\n",
    "            #print(self.w)\n",
    "            i += 1\n",
    "        ### end code ###\n",
    "        return self\n",
    "    \n",
    "    def predict(self, X):\n",
    "        yhat = [self.a[i]*self.decision_trees[i].predict(X) for i in range(self.n)]\n",
    "        yhat_BoostedRandomForest = np.round(np.sum(yhat, axis=0) / np.sum(self.a))\n",
    "        return yhat_BoostedRandomForest"
   ]
  },
  {
   "cell_type": "code",
   "execution_count": 16,
   "metadata": {},
   "outputs": [
    {
     "name": "stdout",
     "output_type": "stream",
     "text": [
      "Cross validation [0.77463382 0.75865513 0.78121878]\n",
      "random forest test accuracy:  0.7698083894355257\n"
     ]
    }
   ],
   "source": [
    "params = {\n",
    "    \"max_depth\": 5,\n",
    "    \"min_samples_leaf\": 10,\n",
    "    \"n_estimators\": 200\n",
    "}\n",
    "N = 200\n",
    "max_depth = 5\n",
    "#rf = RandomForestClassifier(**params, max_features=np.int(np.sqrt(X.shape[1])))\n",
    "rf = RandomForestClassifier(**params, max_features=np.int(np.sqrt(X.shape[1])))\n",
    "rf.fit(X, y)\n",
    "evaluate(rf, print_splits=True)\n",
    "print('random forest test accuracy: ', accuracy_score(rf.predict(X_test), y_test))"
   ]
  },
  {
   "cell_type": "code",
   "execution_count": 29,
   "metadata": {},
   "outputs": [
    {
     "name": "stdout",
     "output_type": "stream",
     "text": [
      "==============================================\n",
      "Constant classifier\n",
      "constant classifier test accuracy:  0.4531330916623511\n",
      "==============================================\n",
      "Decsion Tree classifier\n",
      "cross validation [0.77703827 0.77136515 0.76415094 0.77136515 0.78079911]\n",
      "sklearn decision tree test accuracy:  0.6802175038839979\n",
      "==============================================\n",
      "Random Forest classifier\n",
      "cross validation [0.7775929  0.77247503 0.76470588 0.77413984 0.78135405]\n",
      "random forest test accuracy:  0.7700673226307613\n",
      "==============================================\n",
      "Extremely Randomized Forest classifier\n",
      "cross validation [0.7775929  0.77247503 0.76470588 0.77413984 0.78135405]\n",
      "Extreme random forest test accuracy:  0.7589331952356292\n",
      "==============================================\n",
      "Gradient Boosting classifier\n",
      "cross validation [0.7775929  0.77247503 0.76470588 0.77413984 0.78135405]\n",
      "boosted random forest test accuracy:  0.7599689280165717\n"
     ]
    }
   ],
   "source": [
    "params = {\n",
    "    #\"max_depth\": 5,\n",
    "    #\"min_samples_leaf\": 10,\n",
    "    \"random_state\":0,\n",
    "    \"min_samples_split\":2\n",
    "}\n",
    "\n",
    "# Constant classifier\n",
    "print('==============================================')\n",
    "print(\"Constant classifier\")\n",
    "print('constant classifier test accuracy: ', accuracy_score(np.zeros_like(y_test), y_test))\n",
    "\n",
    "\n",
    "# Basic decision tree\n",
    "print('==============================================')\n",
    "print(\"Decsion Tree classifier\")\n",
    "clf = DecisionTreeClassifier(**params)\n",
    "clf.fit(X, y)\n",
    "print(\"cross validation {}\".format(cross_val_score(rf, X, y, cv=5)))\n",
    "print('sklearn decision tree test accuracy: ', accuracy_score(clf.predict(X_test), y_test))\n",
    "\n",
    "\n",
    "params = {\n",
    "    \"max_depth\": 5,\n",
    "    \"min_samples_leaf\": 10,\n",
    "    \"n_estimators\": 300,\n",
    "    \"random_state\":0,\n",
    "    \"min_samples_split\":2\n",
    "}\n",
    "\n",
    "# Random forest\n",
    "print('==============================================')\n",
    "print(\"Random Forest classifier\")\n",
    "rf = RandomForestClassifier(**params, max_features=np.int(np.sqrt(X.shape[1])))\n",
    "rf.fit(X, y)\n",
    "print(\"cross validation {}\".format(cross_val_score(rf, X, y, cv=5)))\n",
    "print('random forest test accuracy: ', accuracy_score(rf.predict(X_test), y_test))\n",
    "\n",
    "from sklearn.ensemble import ExtraTreesClassifier\n",
    "print('==============================================')\n",
    "print(\"Extremely Randomized Forest classifier\")\n",
    "ext = ExtraTreesClassifier(**params, max_features=np.int(np.sqrt(X.shape[1])))\n",
    "ext.fit(X,y)\n",
    "print(\"cross validation {}\".format(cross_val_score(rf, X, y, cv=5)))\n",
    "print('Extreme random forest test accuracy: ', accuracy_score(ext.predict(X_test), y_test))   \n",
    "                           \n",
    "# Gradient boosted random forest\n",
    "print('==============================================')\n",
    "print(\"Gradient Boosting classifier\")\n",
    "boosted = GradientBoostingClassifier(**params, max_features=np.int(np.sqrt(X.shape[1])))\n",
    "boosted.fit(X, y)\n",
    "print(\"cross validation {}\".format(cross_val_score(rf, X, y, cv=5)))\n",
    "print('boosted random forest test accuracy: ', accuracy_score(boosted.predict(X_test), y_test))\n",
    "# np.savetxt('{}.out'.format(dataset), boosted.predict(X_test))"
   ]
  },
  {
   "cell_type": "code",
   "execution_count": null,
   "metadata": {},
   "outputs": [
    {
     "name": "stdout",
     "output_type": "stream",
     "text": [
      "Cross validation: 0.7645 (+/- 0.01) [Logistic Regression]\n",
      "Test accuracy: 0.7589 (+/- 0.00) [Logistic Regression]\n",
      "Cross validation: 0.7614 (+/- 0.01) [naive Bayes]\n",
      "Test accuracy: 0.7576 (+/- 0.00) [naive Bayes]\n",
      "Cross validation: 0.7716 (+/- 0.01) [Random Forest]\n",
      "Test accuracy: 0.7698 (+/- 0.00) [Random Forest]\n",
      "Cross validation: 0.7646 (+/- 0.01) [Extra Trees]\n",
      "Test accuracy: 0.7582 (+/- 0.00) [Extra Trees]\n",
      "Cross validation: 0.7691 (+/- 0.01) [AdaBoost]\n",
      "Test accuracy: 0.7628 (+/- 0.00) [AdaBoost]\n",
      "Cross validation: 0.7692 (+/- 0.01) [Gradient Boosting]\n",
      "Test accuracy: 0.7644 (+/- 0.00) [Gradient Boosting]\n"
     ]
    }
   ],
   "source": [
    "from sklearn.linear_model import LogisticRegression\n",
    "from sklearn.naive_bayes import GaussianNB\n",
    "from sklearn.ensemble import RandomForestClassifier\n",
    "from sklearn.ensemble import VotingClassifier\n",
    "\n",
    "params = {\n",
    "    \"max_depth\": 5,\n",
    "    \"min_samples_leaf\": 10,\n",
    "    \"n_estimators\": 200,\n",
    "    \"random_state\":0,\n",
    "    \"min_samples_split\":2\n",
    "}\n",
    "\n",
    "params2 = {\n",
    "    #\"max_depth\": 5,\n",
    "    #\"min_samples_leaf\": 10,\n",
    "    \"n_estimators\": 200,\n",
    "    \"random_state\":0,\n",
    "    #\"min_samples_split\":2\n",
    "}\n",
    "\n",
    "logreg = LogisticRegression(random_state=1)\n",
    "gnb = GaussianNB()\n",
    "rf = RandomForestClassifier(**params, max_features=np.int(np.sqrt(X.shape[1])))\n",
    "ext = ExtraTreesClassifier(**params, max_features=np.int(np.sqrt(X.shape[1])))\n",
    "ada = AdaBoostClassifier(**params2)\n",
    "grad = GradientBoostingClassifier(**params, max_features=np.int(np.sqrt(X.shape[1])))\n",
    "eclf = VotingClassifier(estimators=[('lr', logreg), ('gnb', gnb), ('rf', rf), ('ext', ext),('ada', ada), ('grad', grad)], voting='hard')\n",
    "\n",
    "for clf, label in zip([logreg, gnb, rf, ext,ada,grad,eclf], [\n",
    "    'Logistic Regression', 'naive Bayes',\n",
    "    'Random Forest', 'Extra Trees', \"AdaBoost\", \"Gradient Boosting\",'Voting Classfier']):\n",
    "    clf.fit(X,y)\n",
    "    cross_scores = cross_val_score(clf, X, y, scoring='accuracy', cv=3)\n",
    "    test_scores = accuracy_score(clf.predict(X_test), y_test)\n",
    "    print(\"Cross validation: %0.4f (+/- %0.2f) [%s]\" % (cross_scores.mean(), cross_scores.std(), label))\n",
    "    print(\"Test accuracy: %0.4f (+/- %0.2f) [%s]\" % (test_scores.mean(), test_scores.std(), label))"
   ]
  },
  {
   "cell_type": "code",
   "execution_count": null,
   "metadata": {},
   "outputs": [],
   "source": []
  },
  {
   "cell_type": "markdown",
   "metadata": {},
   "source": [
    "### Setup dataset\n"
   ]
  },
  {
   "cell_type": "code",
   "execution_count": null,
   "metadata": {},
   "outputs": [],
   "source": [
    "#dataset = \"titanic\"\n",
    "dataset = \"spam\"\n",
    "params = {\n",
    "    \"max_depth\": 5,\n",
    "    \"min_samples_leaf\": 10,\n",
    "}\n",
    "N = 200\n",
    "\n",
    "if dataset == \"titanic\":\n",
    "    # Load titanic data\n",
    "    path_train = 'titanic_training.csv'\n",
    "    data = genfromtxt(path_train, delimiter=',', dtype=None)\n",
    "    path_test = 'titanic_testing_data.csv'\n",
    "    test_data = genfromtxt(path_test, delimiter=',', dtype=None)\n",
    "    y = data[1:, 0]  # label = survived\n",
    "    path_y_test = 'titanic_testing_labels_only.txt'\n",
    "    y_test = genfromtxt(path_y_test, delimiter=',', dtype=None)\n",
    "    class_names = [\"Died\", \"Survived\"]\n",
    "\n",
    "    labeled_idx = np.where(y != b'')[0]\n",
    "    y = np.array(y[labeled_idx], dtype=np.int)\n",
    "    print(\"Part (a): preprocessing the titanic dataset\")\n",
    "    X, onehot_features = preprocess(data[1:, 1:], onehot_cols=[1, 5, 7, 8])\n",
    "    X = X[labeled_idx, :]\n",
    "    Z, _ = preprocess(test_data[1:, :], onehot_cols=[1, 5, 7, 8])\n",
    "    assert X.shape[1] == Z.shape[1]\n",
    "    features = list(data[0, 1:]) + onehot_features\n",
    "\n",
    "elif dataset == \"spam\":\n",
    "    features = [\n",
    "        \"pain\", \"private\", \"bank\", \"money\", \"drug\", \"spam\", \"prescription\",\n",
    "        \"creative\", \"height\", \"featured\", \"differ\", \"width\", \"other\",\n",
    "        \"energy\", \"business\", \"message\", \"volumes\", \"revision\", \"path\",\n",
    "        \"meter\", \"memo\", \"planning\", \"pleased\", \"record\", \"out\",\n",
    "        \"semicolon\", \"dollar\", \"sharp\", \"exclamation\", \"parenthesis\",\n",
    "        \"square_bracket\", \"ampersand\"\n",
    "    ]\n",
    "    assert len(features) == 32\n",
    "\n",
    "    # Load spam data\n",
    "    path_train = 'spam_data.mat'\n",
    "    data = scipy.io.loadmat(path_train)\n",
    "    X = data['training_data']\n",
    "    y = np.squeeze(data['training_labels'])\n",
    "    Z = data['test_data']\n",
    "    path_y_test = 'spam_test_labels_only.txt'\n",
    "    y_test = genfromtxt(path_y_test, delimiter=',', dtype=None)\n",
    "    class_names = [\"Ham\", \"Spam\"]\n",
    "\n",
    "else:\n",
    "    raise NotImplementedError(\"Dataset %s not handled\" % dataset)\n",
    "\n",
    "print('==============================================')\n",
    "print(\"Features\", features)\n",
    "print('==============================================')\n",
    "print(\"Train/test size\", X.shape, Z.shape)\n"
   ]
  },
  {
   "cell_type": "markdown",
   "metadata": {},
   "source": [
    "### Part (b). Implement basic decision tree\n",
    "\n",
    "Implement the\n",
    "\n",
    "**information gain**, i.e., entropy of the parent node minus the weighted sum of entropy of the child nodes\n",
    "\n",
    "**Gini purification**, i.e., Gini impurity of the parent node minus the weighted sum of Gini impurities of the child nodes splitting rules for greedy decision tree learning.\n"
   ]
  },
  {
   "cell_type": "code",
   "execution_count": null,
   "metadata": {},
   "outputs": [],
   "source": [
    "class DecisionTree:\n",
    "\n",
    "    def __init__(self, max_depth=3, feature_labels=None):\n",
    "        self.max_depth = max_depth\n",
    "        self.features = feature_labels\n",
    "        self.left, self.right = None, None  # for non-leaf nodes\n",
    "        self.split_idx, self.thresh = None, None  # for non-leaf nodes\n",
    "        self.data, self.pred = None, None  # for leaf nodes\n",
    "\n",
    "    @staticmethod\n",
    "    def entropy(y):\n",
    "        if y.size == 0:\n",
    "            return 0\n",
    "        p0 = np.where(y < 0.5)[0].size / y.size\n",
    "        if np.abs(p0) < 1e-10 or np.abs(1 - p0) < 1e-10:\n",
    "            return 0\n",
    "        # TODO: compute entropy_value\n",
    "        ### start entropy_code ###\n",
    "        entropy_value = -p0*np.log(p0) \n",
    "        ### end entropy_code ###\n",
    "\n",
    "        return entropy_value\n",
    "\n",
    "    @staticmethod\n",
    "    def information_gain(X, y, thresh):\n",
    "        base = DecisionTree.entropy(y)\n",
    "        y0 = y[np.where(X < thresh)[0]]\n",
    "        p0 = y0.size / y.size\n",
    "        y1 = y[np.where(X >= thresh)[0]]\n",
    "        p1 = y1.size / y.size\n",
    "        # TODO: compute entropy_children\n",
    "\n",
    "        ### start information_gain_code ###\n",
    "        entropy_children = p0*DecisionTree.entropy(y0) + p1*DecisionTree.entropy(y1)\n",
    "        ### end information_gain_code ###\n",
    "\n",
    "        return base - entropy_children\n",
    "\n",
    "    @staticmethod\n",
    "    def gini_impurity(X, y, thresh):\n",
    "        if y.size == 0:\n",
    "            return 0\n",
    "        p0 = np.where(y < 0.5)[0].size / y.size\n",
    "        if np.abs(p0) < 1e-10 or np.abs(1 - p0) < 1e-10:\n",
    "            return 0\n",
    "        # TODO: compute entropy_value\n",
    "\n",
    "        ### start gini_impurity_code ###\n",
    "        gini_impurity_value = p0*(1-p0) \n",
    "        ### end gini_impurity_code ###\n",
    "\n",
    "        return gini_impurity_value\n",
    "\n",
    "    @staticmethod\n",
    "    def gini_purification(X, y, thresh):\n",
    "        base = DecisionTree.gini_impurity(y)\n",
    "        y0 = y[np.where(X < thresh)[0]]\n",
    "        p0 = y0.size / y.size\n",
    "        y1 = y[np.where(X >= thresh)[0]]\n",
    "        p1 = y1.size / y.size\n",
    "        # TODO: compute entropy_children\n",
    "\n",
    "        ### start gini_purification_code ###\n",
    "        gini_impurity_children = p0*DecisionTree.gini_impurity(y0) + p1*DecisionTree.gini_impurity(y1)\n",
    "        ### end gini_purification_code ###\n",
    "\n",
    "        return base - gini_impurity_children\n",
    "\n",
    "    def split(self, X, y, idx, thresh):\n",
    "        X0, idx0, X1, idx1 = self.split_test(X, idx=idx, thresh=thresh)\n",
    "        y0, y1 = y[idx0], y[idx1]\n",
    "        return X0, y0, X1, y1\n",
    "\n",
    "    def split_test(self, X, idx, thresh):\n",
    "        idx0 = np.where(X[:, idx] < thresh)[0]\n",
    "        idx1 = np.where(X[:, idx] >= thresh)[0]\n",
    "        X0, X1 = X[idx0, :], X[idx1, :]\n",
    "        return X0, idx0, X1, idx1\n",
    "\n",
    "    def fit(self, X, y):\n",
    "        if self.max_depth > 0:\n",
    "            # compute entropy gain for all single-dimension splits,\n",
    "            # thresholding with a linear interpolation of 10 values\n",
    "            gains = []\n",
    "            # The following logic prevents thresholding on exactly the minimum\n",
    "            # or maximum values, which may not lead to any meaningful node\n",
    "            # splits.\n",
    "            thresh = np.array([\n",
    "                np.linspace(\n",
    "                    np.min(X[:, i]) + eps, np.max(X[:, i]) - eps, num=10)\n",
    "                for i in range(X.shape[1])\n",
    "            ])\n",
    "            for i in range(X.shape[1]):\n",
    "                gains.append([\n",
    "                    self.information_gain(X[:, i], y, t) for t in thresh[i, :]\n",
    "                ])\n",
    "\n",
    "            gains = np.nan_to_num(np.array(gains))\n",
    "            self.split_idx, thresh_idx = np.unravel_index(\n",
    "                np.argmax(gains), gains.shape)\n",
    "            self.thresh = thresh[self.split_idx, thresh_idx]\n",
    "            X0, y0, X1, y1 = self.split(\n",
    "                X, y, idx=self.split_idx, thresh=self.thresh)\n",
    "            if X0.size > 0 and X1.size > 0:\n",
    "                self.left = DecisionTree(\n",
    "                    max_depth=self.max_depth - 1, feature_labels=self.features)\n",
    "                self.left.fit(X0, y0)\n",
    "                self.right = DecisionTree(\n",
    "                    max_depth=self.max_depth - 1, feature_labels=self.features)\n",
    "                self.right.fit(X1, y1)\n",
    "            else:\n",
    "                self.max_depth = 0\n",
    "                self.data, self.labels = X, y\n",
    "                self.pred = stats.mode(y).mode[0]\n",
    "        else:\n",
    "            self.data, self.labels = X, y\n",
    "            self.pred = stats.mode(y).mode[0]\n",
    "        return self\n",
    "\n",
    "    def predict(self, X):\n",
    "        if self.max_depth == 0:\n",
    "            return self.pred * np.ones(X.shape[0])\n",
    "        else:\n",
    "            X0, idx0, X1, idx1 = self.split_test(\n",
    "                X, idx=self.split_idx, thresh=self.thresh)\n",
    "            yhat = np.zeros(X.shape[0])\n",
    "            yhat[idx0] = self.left.predict(X0)\n",
    "            yhat[idx1] = self.right.predict(X1)\n",
    "            return yhat\n",
    "\n",
    "    def __repr__(self):\n",
    "        if self.max_depth == 0:\n",
    "            return \"%s (%s)\" % (self.pred, self.labels.size)\n",
    "        else:\n",
    "            return \"[%s < %s: %s | %s]\" % (self.features[self.split_idx],\n",
    "                                           self.thresh, self.left.__repr__(),\n",
    "                                           self.right.__repr__())\n"
   ]
  },
  {
   "cell_type": "code",
   "execution_count": null,
   "metadata": {},
   "outputs": [],
   "source": [
    "# debug = DecisionTree\n",
    "# #arr = np.random.rand(10,)\n",
    "# arr = np.array([0.1,1,1,1,1,1])\n",
    "# print(arr)\n",
    "# debug.entropy(arr)"
   ]
  },
  {
   "cell_type": "markdown",
   "metadata": {},
   "source": [
    "### Part (c). Train a shallow decision tree on the Titanic and Spam dataset and visualize your tree.\n"
   ]
  },
  {
   "cell_type": "markdown",
   "metadata": {},
   "source": [
    "#### Train and evaluate the decision tree\n"
   ]
  },
  {
   "cell_type": "code",
   "execution_count": null,
   "metadata": {},
   "outputs": [],
   "source": [
    "# Basic decision tree\n",
    "max_depth = 3\n",
    "print('==============================================')\n",
    "print(\"Part (a, c): simplified decision tree\")\n",
    "dt = DecisionTree(max_depth=max_depth, feature_labels=features)\n",
    "dt.fit(X, y)\n",
    "print('==============================================')\n",
    "print(\"Tree structure\", dt.__repr__())\n",
    "\n",
    "# Basic decision tree\n",
    "print('==============================================')\n",
    "print(\"Part (c): sklearn's decision tree\")\n",
    "params = {\n",
    "    \"max_depth\": max_depth,\n",
    "    \"min_samples_leaf\": 10,\n",
    "}\n",
    "clf = DecisionTreeClassifier(random_state=0, **params)\n",
    "clf.fit(X, y)\n",
    "evaluate(clf)\n"
   ]
  },
  {
   "cell_type": "markdown",
   "metadata": {},
   "source": [
    "**Visualize your tree**\n"
   ]
  },
  {
   "cell_type": "code",
   "execution_count": 133,
   "metadata": {},
   "outputs": [],
   "source": [
    "from pydot import graph_from_dot_data\n",
    "import io\n",
    "out = io.StringIO()\n",
    "export_graphviz(clf, out_file=out, feature_names=features, class_names=class_names)\n",
    "# For OSX, may need the following for dot: brew install gprof2dot\n",
    "graph = graph_from_dot_data(out.getvalue())\n",
    "graph_from_dot_data(out.getvalue())[0].write_pdf(\"{}-tree-depth{}.pdf\".format(dataset, max_depth))\n"
   ]
  },
  {
   "cell_type": "markdown",
   "metadata": {},
   "source": [
    "### Part (d). Implement bagged trees\n"
   ]
  },
  {
   "cell_type": "code",
   "execution_count": null,
   "metadata": {},
   "outputs": [],
   "source": [
    "class BaggedTrees(BaseEstimator, ClassifierMixin):\n",
    "\n",
    "    def __init__(self, params=None, n=200):\n",
    "        if params is None:\n",
    "            params = {}\n",
    "        self.params = params\n",
    "        self.n = n\n",
    "        self.decision_trees = [\n",
    "            DecisionTreeClassifier(random_state=i, **self.params) for i in range(self.n)\n",
    "        ]\n",
    "\n",
    "    def fit(self, X, y):\n",
    "        for i in range(self.n):\n",
    "            idx = np.random.randint(0, X.shape[0], X.shape[0])\n",
    "            newX, newy = X[idx, :], y[idx]\n",
    "            self.decision_trees[i].fit(newX, newy)\n",
    "        return self\n",
    "\n",
    "    def predict(self, X):\n",
    "        yhat = [self.decision_trees[i].predict(X) for i in range(self.n)]\n",
    "        # TODO: compute yhat_avg for BaggedTrees\n",
    "        ### start code ###\n",
    "        yhat_avg = np.round(np.mean(yhat, axis=0), decimals=0)\n",
    "        ### end code ###\n",
    "        return yhat_avg\n"
   ]
  },
  {
   "cell_type": "markdown",
   "metadata": {},
   "source": [
    "### Part (e). Apply bagged trees to the titanic and spam datasets.\n",
    "\n",
    "Find and state the most common splits made at the root node of the trees.\n"
   ]
  },
  {
   "cell_type": "code",
   "execution_count": null,
   "metadata": {},
   "outputs": [],
   "source": [
    "# Bagged trees\n",
    "print(\"Part (e): bagged trees\")\n",
    "bt = BaggedTrees(params, n=N)\n",
    "bt.fit(X, y)\n",
    "evaluate(bt)"
   ]
  },
  {
   "cell_type": "markdown",
   "metadata": {},
   "source": [
    "### Part (f). Implement random forests\n"
   ]
  },
  {
   "cell_type": "code",
   "execution_count": null,
   "metadata": {},
   "outputs": [],
   "source": [
    "class RandomForest(BaggedTrees):\n",
    "\n",
    "    def __init__(self, params=None, n=200, m=1):\n",
    "        if params is None:\n",
    "            params = {}\n",
    "        params['max_features'] = m\n",
    "        super().__init__(params=params, n=n)\n"
   ]
  },
  {
   "cell_type": "markdown",
   "metadata": {},
   "source": [
    "### Part (g). Apply bagged random forests to the titanic and spam datasets.\n",
    "\n",
    "Find and state the most common splits made at the root node of the trees.\n"
   ]
  },
  {
   "cell_type": "code",
   "execution_count": null,
   "metadata": {},
   "outputs": [],
   "source": [
    "# Random forest\n",
    "print(\"Part (g): random forest\")\n",
    "rf = RandomForest(params, n=N, m=np.int(np.sqrt(X.shape[1])))\n",
    "rf.fit(X, y)\n",
    "evaluate(rf)\n"
   ]
  },
  {
   "cell_type": "markdown",
   "metadata": {},
   "source": [
    "### Part (h). Implement AdaBoost algorithm\n"
   ]
  },
  {
   "cell_type": "code",
   "execution_count": null,
   "metadata": {},
   "outputs": [],
   "source": [
    "class BoostedRandomForest(RandomForest):\n",
    "\n",
    "    def fit(self, X, y):\n",
    "        self.w = np.ones(X.shape[0]) / X.shape[0]  # Weights on data\n",
    "        self.a = np.zeros(self.n)  # Weights on decision trees\n",
    "        i = 0\n",
    "        while i < self.n:\n",
    "            idx = np.random.choice(X.shape[0], size=X.shape[0], p=self.w)\n",
    "            newX, newy = X[idx, :], y[idx]\n",
    "            self.decision_trees[i].fit(newX, newy)\n",
    "            wrong = np.abs((y - self.decision_trees[i].predict(X)))\n",
    "            error = wrong.dot(self.w) / np.sum(self.w)\n",
    "            self.a[i] = 0.5 * np.log((1 - error) / error)\n",
    "            # Update w\n",
    "            wrong_idx = np.where(wrong > 0.5)[0]\n",
    "            right_idx = np.where(wrong <= 0.5)[0]\n",
    "            # TODO: fill in the code for updating 'self.w'\n",
    "            \n",
    "            ### start code ###\n",
    "            self.w[wrong_idx] = self.w[wrong_idx]*np.exp(self.a[i])\n",
    "            self.w[right_idx] = self.w[right_idx]*np.exp(-self.a[i])\n",
    "            self.w = self.w / sum(self.w)\n",
    "            #print(self.w)\n",
    "            i += 1\n",
    "        ### end code ###\n",
    "        return self\n",
    "    \n",
    "    def predict(self, X):\n",
    "        yhat = [self.a[i]*self.decision_trees[i].predict(X) for i in range(self.n)]\n",
    "        yhat_BoostedRandomForest = np.round(np.sum(yhat, axis=0) / np.sum(self.a))\n",
    "        return yhat_BoostedRandomForest\n"
   ]
  },
  {
   "cell_type": "code",
   "execution_count": null,
   "metadata": {},
   "outputs": [],
   "source": [
    "# Boosted random forest\n",
    "print(\"Part (h): boosted random forest\")\n",
    "boosted = BoostedRandomForest(params, n=N, m=np.int(np.sqrt(X.shape[1])))\n",
    "boosted.fit(X, y)\n",
    "evaluate(boosted)\n"
   ]
  },
  {
   "cell_type": "markdown",
   "metadata": {},
   "source": [
    "### Part (i). Summarize the performance evaluation of: a single decision tree, bagged trees, random forests, and boosted trees.\n"
   ]
  },
  {
   "cell_type": "code",
   "execution_count": 134,
   "metadata": {},
   "outputs": [
    {
     "name": "stdout",
     "output_type": "stream",
     "text": [
      "==============================================\n",
      "Part (0): constant classifier\n",
      "constant classifier test accuracy:  0.4531330916623511\n",
      "==============================================\n",
      "Part (c): simplified decision tree\n"
     ]
    },
    {
     "ename": "NameError",
     "evalue": "name 'DecisionTree' is not defined",
     "output_type": "error",
     "traceback": [
      "\u001b[0;31m---------------------------------------------------------------------------\u001b[0m",
      "\u001b[0;31mNameError\u001b[0m                                 Traceback (most recent call last)",
      "\u001b[0;32m<ipython-input-134-4884b437c212>\u001b[0m in \u001b[0;36m<module>\u001b[0;34m\u001b[0m\n\u001b[1;32m     14\u001b[0m \u001b[0mprint\u001b[0m\u001b[0;34m(\u001b[0m\u001b[0;34m'=============================================='\u001b[0m\u001b[0;34m)\u001b[0m\u001b[0;34m\u001b[0m\u001b[0;34m\u001b[0m\u001b[0m\n\u001b[1;32m     15\u001b[0m \u001b[0mprint\u001b[0m\u001b[0;34m(\u001b[0m\u001b[0;34m\"Part (c): simplified decision tree\"\u001b[0m\u001b[0;34m)\u001b[0m\u001b[0;34m\u001b[0m\u001b[0;34m\u001b[0m\u001b[0m\n\u001b[0;32m---> 16\u001b[0;31m \u001b[0mdt\u001b[0m \u001b[0;34m=\u001b[0m \u001b[0mDecisionTree\u001b[0m\u001b[0;34m(\u001b[0m\u001b[0mmax_depth\u001b[0m\u001b[0;34m=\u001b[0m\u001b[0mmax_depth\u001b[0m\u001b[0;34m,\u001b[0m \u001b[0mfeature_labels\u001b[0m\u001b[0;34m=\u001b[0m\u001b[0mfeatures\u001b[0m\u001b[0;34m)\u001b[0m\u001b[0;34m\u001b[0m\u001b[0;34m\u001b[0m\u001b[0m\n\u001b[0m\u001b[1;32m     17\u001b[0m \u001b[0mdt\u001b[0m\u001b[0;34m.\u001b[0m\u001b[0mfit\u001b[0m\u001b[0;34m(\u001b[0m\u001b[0mX\u001b[0m\u001b[0;34m,\u001b[0m \u001b[0my\u001b[0m\u001b[0;34m)\u001b[0m\u001b[0;34m\u001b[0m\u001b[0;34m\u001b[0m\u001b[0m\n\u001b[1;32m     18\u001b[0m \u001b[0mprint\u001b[0m\u001b[0;34m(\u001b[0m\u001b[0;34m'Basic decision tree test accuracy: '\u001b[0m\u001b[0;34m,\u001b[0m \u001b[0maccuracy_score\u001b[0m\u001b[0;34m(\u001b[0m\u001b[0mdt\u001b[0m\u001b[0;34m.\u001b[0m\u001b[0mpredict\u001b[0m\u001b[0;34m(\u001b[0m\u001b[0mZ\u001b[0m\u001b[0;34m)\u001b[0m\u001b[0;34m,\u001b[0m \u001b[0my_test\u001b[0m\u001b[0;34m)\u001b[0m\u001b[0;34m)\u001b[0m\u001b[0;34m\u001b[0m\u001b[0;34m\u001b[0m\u001b[0m\n",
      "\u001b[0;31mNameError\u001b[0m: name 'DecisionTree' is not defined"
     ]
    }
   ],
   "source": [
    "params = {\n",
    "    \"max_depth\": 5,\n",
    "    \"min_samples_leaf\": 10,\n",
    "}\n",
    "N = 200\n",
    "max_depth = 5\n",
    "\n",
    "# Constant classifier\n",
    "print('==============================================')\n",
    "print(\"Part (0): constant classifier\")\n",
    "print('constant classifier test accuracy: ', accuracy_score(np.zeros_like(y_test), y_test))\n",
    "\n",
    "# Basic decision tree\n",
    "print('==============================================')\n",
    "print(\"Part (c): simplified decision tree\")\n",
    "dt = DecisionTree(max_depth=max_depth, feature_labels=features)\n",
    "dt.fit(X, y)\n",
    "print('Basic decision tree test accuracy: ', accuracy_score(dt.predict(Z), y_test))\n",
    "\n",
    "# Basic decision tree\n",
    "print('==============================================')\n",
    "print(\"Part (c): sklearn's decision tree\")\n",
    "params = {\n",
    "    \"max_depth\": max_depth,\n",
    "    \"min_samples_leaf\": 10,\n",
    "}\n",
    "clf = DecisionTreeClassifier(random_state=0, **params)\n",
    "clf.fit(X, y)\n",
    "evaluate(clf, print_splits=True)\n",
    "print('sklearn decision tree test accuracy: ', accuracy_score(clf.predict(Z), y_test))\n",
    "\n",
    "\n",
    "# Bagged trees\n",
    "print('==============================================')\n",
    "print(\"Part (e): bagged trees\")\n",
    "bt = BaggedTrees(params, n=N)\n",
    "bt.fit(X, y)\n",
    "evaluate(bt, print_splits=True)\n",
    "print('bagged trees test accuracy: ', accuracy_score(bt.predict(Z), y_test))\n",
    "\n",
    "\n",
    "# Random forest\n",
    "print('==============================================')\n",
    "print(\"Part (g): random forest\")\n",
    "rf = RandomForest(params, n=N, m=np.int(np.sqrt(X.shape[1])))\n",
    "rf.fit(X, y)\n",
    "evaluate(rf, print_splits=True)\n",
    "print('random forest test accuracy: ', accuracy_score(rf.predict(Z), y_test))\n",
    "\n",
    "\n",
    "# Boosted random forest\n",
    "print('==============================================')\n",
    "print(\"Part (h): boosted random forest\")\n",
    "boosted = BoostedRandomForest(params, n=N, m=np.int(np.sqrt(X.shape[1])))\n",
    "boosted.fit(X, y)\n",
    "evaluate(boosted, print_splits=True)\n",
    "print('boosted random forest test accuracy: ', accuracy_score(boosted.predict(Z), y_test))\n",
    "print(dataset)\n",
    "np.savetxt('{}.out'.format(dataset), boosted.predict(Z))\n"
   ]
  },
  {
   "cell_type": "markdown",
   "metadata": {},
   "source": [
    "### Part (j). For the spam dataset only: Describe what kind of data are the most challenging to classify and which are the easiest.\n"
   ]
  },
  {
   "cell_type": "code",
   "execution_count": null,
   "metadata": {},
   "outputs": [],
   "source": [
    "if dataset == 'titanic':\n",
    "    import sys\n",
    "    sys.exit()\n",
    "# The following is for the spam dataset only.\n",
    "# Sample code for determining which data are easier/harder to classify\n",
    "print(\"\\n\\nPart (i): easy/hard examples\")\n",
    "A = np.argsort(boosted.w)\n",
    "tail = 1000\n",
    "bits = np.array([np.sum(X[A[i], :-7]) for i in range(X.shape[0])])\n",
    "print(\n",
    "    \"Number of easiest %s samples containing >= 2 feature counts:\" % tail,\n",
    "    np.sum(bits[:tail] >= 2))\n",
    "print(\"Number of hardest %s samples containing < 2 feature counts:\" % tail,\n",
    "      np.sum(bits[-tail:] < 2))\n",
    "bits = np.array([np.sum(X[A[i], :]) for i in range(X.shape[0])])\n",
    "print(\n",
    "    \"Number of easiest %s samples containing >= 5 feature counts:\" % tail,\n",
    "    np.sum(bits[:tail] >= 5))\n",
    "print(\"Number of hardest %s samples containing < 5 feature counts:\" % tail,\n",
    "      np.sum(bits[-tail:] < 5))\n",
    "idxes = 200 - np.where(bits[-200:] > 7)[0]\n",
    "print(\"Most challenging samples: Examples among the 200 data most likely \"\n",
    "      \"to be sampled which contained at least 7 feature counts\")\n",
    "for idx in idxes:\n",
    "    print('Example:', class_names[y[A[-idx]]],\n",
    "          [x for x in zip(features, X[A[-idx], :]) if x[1] > 0],\n",
    "          bits[-idx])\n"
   ]
  },
  {
   "cell_type": "code",
   "execution_count": null,
   "metadata": {},
   "outputs": [],
   "source": []
  }
 ],
 "metadata": {
  "kernelspec": {
   "display_name": "Python 3",
   "language": "python",
   "name": "python3"
  },
  "language_info": {
   "codemirror_mode": {
    "name": "ipython",
    "version": 3
   },
   "file_extension": ".py",
   "mimetype": "text/x-python",
   "name": "python",
   "nbconvert_exporter": "python",
   "pygments_lexer": "ipython3",
   "version": "3.8.5"
  }
 },
 "nbformat": 4,
 "nbformat_minor": 4
}
