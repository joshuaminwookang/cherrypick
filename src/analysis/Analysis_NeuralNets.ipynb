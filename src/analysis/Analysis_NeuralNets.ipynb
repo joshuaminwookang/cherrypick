{
 "cells": [
  {
   "cell_type": "markdown",
   "metadata": {},
   "source": [
    "# CS289A Project F NN"
   ]
  },
  {
   "cell_type": "code",
   "execution_count": 19,
   "metadata": {},
   "outputs": [],
   "source": [
    "from collections import Counter\n",
    "import numpy as np\n",
    "from numpy import genfromtxt\n",
    "import matplotlib.pyplot as plt\n",
    "import scipy.io\n",
    "from scipy import stats\n",
    "from sklearn.tree import DecisionTreeClassifier, export_graphviz\n",
    "from sklearn.ensemble import RandomForestClassifier, GradientBoostingClassifier, AdaBoostClassifier\n",
    "from sklearn.base import BaseEstimator, ClassifierMixin\n",
    "from sklearn.model_selection import cross_val_score\n",
    "from sklearn.metrics import accuracy_score\n",
    "import pandas as pd\n",
    "import random\n",
    "random.seed(246810)\n",
    "np.random.seed(246810)\n",
    "import warnings\n",
    "warnings.filterwarnings('ignore')\n",
    "from sklearn.decomposition import PCA\n",
    "from sklearn.pipeline import make_pipeline\n",
    "from sklearn.preprocessing import StandardScaler\n",
    "from sklearn.svm import SVC\n",
    "from sklearn.model_selection import GridSearchCV\n",
    "from sklearn.metrics import classification_report, confusion_matrix \n",
    "from sklearn.metrics import accuracy_score\n",
    "from sklearn.linear_model import LogisticRegression\n",
    "from sklearn.model_selection import train_test_split"
   ]
  },
  {
   "cell_type": "code",
   "execution_count": 20,
   "metadata": {},
   "outputs": [],
   "source": [
    "eps = 1e-5  # a small number\n",
    "# Vectorized function for hashing for np efficiency\n",
    "def w(x):\n",
    "    return np.int(hash(x)) % 1000\n",
    "\n",
    "h = np.vectorize(w)\n"
   ]
  },
  {
   "cell_type": "markdown",
   "metadata": {},
   "source": [
    "## 1. Set up dataset"
   ]
  },
  {
   "cell_type": "code",
   "execution_count": 21,
   "metadata": {},
   "outputs": [],
   "source": [
    "# some scripts to merge the SW time and HW time + features CSV files\n",
    "# no need to run again !!\n",
    "\n",
    "# path_chstone= '../data/baseline_chstone.csv'\n",
    "# chstone = pd.read_csv(path_chstone, delimiter=',')\n",
    "\n",
    "# path_random = '../data/baseline_random.csv'\n",
    "# random = pd.read_csv(path_random, delimiter=',')\n",
    "# random.sort_values(by = ['program'])\n",
    "\n",
    "# random_sw=pd.read_csv('../data/sw_perf_random.csv', delimiter=',')\n",
    "# chstone_sw=pd.read_csv('../data/sw_perf_chstone.csv', delimiter=',')\n",
    "\n",
    "# merged_random = random.merge(random_sw, left_on='program', right_on='program')\n",
    "# merged_chstone = chstone.merge(chstone_sw, left_on='program', right_on='program')\n",
    "\n",
    "# merged_random.to_csv('../data/final_random.csv', index=False)\n",
    "# merged_chstone.to_csv('../data/final_chstone.csv',index=False)\n"
   ]
  },
  {
   "cell_type": "code",
   "execution_count": 22,
   "metadata": {},
   "outputs": [],
   "source": [
    "dataset = \"csmith_random_programs\"\n",
    "data = pd.read_csv('../data/final_random.csv', delimiter=',')"
   ]
  },
  {
   "cell_type": "markdown",
   "metadata": {},
   "source": [
    "### Part (a). Pre-process the data\n"
   ]
  },
  {
   "cell_type": "code",
   "execution_count": 23,
   "metadata": {},
   "outputs": [
    {
     "name": "stdout",
     "output_type": "stream",
     "text": [
      "(9011, 116)\n",
      "(3862, 116)\n",
      "(12873, 116)\n",
      "[2915.27039334195 3064.5126890095776 3127.9902745113 ...\n",
      " 2596.5991783791956 2804.3891404735623 3077.551395099053]\n"
     ]
    }
   ],
   "source": [
    "# set out training set to be 70% of total; 30% \n",
    "# random_idx = random.randint(0, np.shape(data)[0]) #27\n",
    "num_train = round(np.shape(data)[0]*0.7)\n",
    "train_data = data.values[0:num_train,:]\n",
    "test_data =  data.values[num_train:, :]\n",
    "print(np.shape(train_data))\n",
    "print(np.shape(test_data))\n",
    "print(np.shape(data))\n",
    "\n",
    "train_speedup = (train_data[:, -1] / train_data[:, 2]) # \n",
    "test_speedup = (test_data[:, -1] / test_data[:, 2]) # -O3\n",
    "print(train_speedup)\n",
    "# log_train_speedup = np.log10(train_speedup.astype(float))\n",
    "# log_test_speedup = np.log10(test_speedup.astype(float))\n"
   ]
  },
  {
   "cell_type": "code",
   "execution_count": 24,
   "metadata": {},
   "outputs": [
    {
     "data": {
      "image/png": "[encoded data removed]",
      "text/plain": [
       "<Figure size 432x288 with 1 Axes>"
      ]
     },
     "metadata": {},
     "output_type": "display_data"
    }
   ],
   "source": [
    "# EDA of speed up from training set\n",
    "plt.style.use('seaborn-whitegrid')\n",
    "plt.style.use('ggplot')\n",
    "plt.hist(train_speedup, bins=100, range =(0, 7000))\n",
    "plt.hist(test_speedup, bins=100, range = (0, 7000))\n",
    "\n",
    "plt.show()\n"
   ]
  },
  {
   "cell_type": "code",
   "execution_count": 25,
   "metadata": {},
   "outputs": [
    {
     "name": "stdout",
     "output_type": "stream",
     "text": [
      "0.5433359227610698\n",
      "0.5468669083376488\n"
     ]
    }
   ],
   "source": [
    "# Get binary preduction output: is speedup (HW vs SW) > 2800 \n",
    "y = (train_speedup > 2800).astype(int)\n",
    "X = train_data[:,-57:-1]\n",
    "y_test = (test_speedup > 2800).astype(int)\n",
    "X_test = test_data[:,-57:-1]\n",
    "print(np.count_nonzero(y) / len(y))\n",
    "print(np.count_nonzero(y_test) / len(y_test))\n",
    "assert(len(y) == np.shape(train_data)[0])\n",
    "assert(len(y_test) == np.shape(test_data)[0] )\n",
    "\n",
    "features = data.columns.values[-57:-1]\n",
    "assert len(features) == 56\n",
    "class_names = [\"On-Chip\", \"Not On-Chip\"]"
   ]
  },
  {
   "cell_type": "markdown",
   "metadata": {},
   "source": [
    "## Neural Net ##"
   ]
  },
  {
   "cell_type": "code",
   "execution_count": 26,
   "metadata": {},
   "outputs": [],
   "source": [
    "import torch\n",
    "import torch.nn as nn\n",
    "import torch.optim as optim\n",
    "from sklearn.preprocessing import StandardScaler"
   ]
  },
  {
   "cell_type": "code",
   "execution_count": 27,
   "metadata": {},
   "outputs": [],
   "source": [
    "scaler = StandardScaler()\n",
    "X_train = scaler.fit_transform(X)\n",
    "X_test = scaler.fit_transform(X_test)\n",
    "X_val, X_test, y_val, y_test = train_test_split(X_test, y_test, test_size=0.5, random_state = 0)"
   ]
  },
  {
   "cell_type": "code",
   "execution_count": 28,
   "metadata": {},
   "outputs": [],
   "source": [
    "\n",
    "#defining dataset class\n",
    "from torch.utils.data import Dataset, DataLoader\n",
    "class trainData(Dataset):\n",
    "    def __init__(self,x,y):\n",
    "        self.x = torch.tensor(x,dtype=torch.float32)\n",
    "        self.y = torch.tensor(y,dtype=torch.float32)\n",
    "        self.length = self.x.shape[0]\n",
    " \n",
    "    def __getitem__(self,idx):\n",
    "        return self.x[idx],self.y[idx]\n",
    "    def __len__(self):\n",
    "        return self.length\n",
    "    \n",
    "class testData(Dataset):\n",
    "    def __init__(self, X_data):\n",
    "        self.X_data = X_data\n",
    "        \n",
    "    def __getitem__(self, index):\n",
    "        return self.X_data[index]\n",
    "        \n",
    "    def __len__ (self):\n",
    "        return len(self.X_data)\n",
    "    \n",
    "\n",
    "    \n",
    "trainset = trainData(X_train,y)\n",
    "test_data = testData(torch.FloatTensor(X_test))\n",
    "validation_data = testData(torch.FloatTensor(X_val))\n",
    "\n",
    "train_loader = DataLoader(trainset,batch_size=64,shuffle=False)\n",
    "test_loader = DataLoader(test_data,batch_size=1,shuffle=False)\n",
    "validation_loader = DataLoader(validation_data,batch_size=1,shuffle=False)"
   ]
  },
  {
   "cell_type": "code",
   "execution_count": 29,
   "metadata": {},
   "outputs": [],
   "source": [
    "class Net(nn.Module):\n",
    "    def __init__(self,input_shape,width = 64, depth = 3, activation = torch.relu):\n",
    "        super(Net,self).__init__()\n",
    "        self.width = width\n",
    "        self.depth = depth\n",
    "        self.activation = activation\n",
    "        self.layers = nn.ModuleList([])\n",
    "        self.layers.append(nn.Linear(input_shape,self.width))\n",
    "        for _ in range(1,self.depth-1):\n",
    "            self.layers.append(nn.Linear(width,self.width))\n",
    "        self.layers.append(nn.Linear(self.width,1))\n",
    "        \n",
    "    def forward(self,x):\n",
    "        for i in range(0,self.depth-1):\n",
    "            x = self.activation(self.layers[i](x))\n",
    "        x = self.layers[-1](x)\n",
    "        return x"
   ]
  },
  {
   "cell_type": "code",
   "execution_count": 30,
   "metadata": {},
   "outputs": [
    {
     "name": "stdout",
     "output_type": "stream",
     "text": [
      "cpu\n"
     ]
    }
   ],
   "source": [
    "device = torch.device(\"cuda:0\" if torch.cuda.is_available() else \"cpu\")\n",
    "print(device)"
   ]
  },
  {
   "cell_type": "code",
   "execution_count": 31,
   "metadata": {},
   "outputs": [],
   "source": [
    "epochs = 500\n",
    "lr_ = 0.001\n",
    "\n",
    "def binary_acc(y_pred, y_test):\n",
    "    \"\"\"Helper function for getting the accuracy of a batch.\"\"\"\n",
    "    y_pred_tag = torch.round(torch.sigmoid(y_pred))\n",
    "    correct_results_sum = (y_pred_tag == y_test).sum().float()\n",
    "    acc = correct_results_sum/y_test.shape[0]\n",
    "    acc = torch.round(acc * 100)\n",
    "    return acc\n",
    "\n",
    "def train_model(model):\n",
    "    \"\"\"Train a model with the specified dimensions and activation fn.\"\"\"\n",
    "    optimizer = torch.optim.SGD(model.parameters(),lr=lr_)\n",
    "    # Combines sigmoid and BCE in one class\n",
    "    loss_fn = nn.BCEWithLogitsLoss()\n",
    "    model.train()\n",
    "    for e in range(1, epochs+1):\n",
    "        epoch_loss = 0\n",
    "        epoch_acc = 0\n",
    "        for X_batch, y_batch in train_loader:\n",
    "            X_batch, y_batch = X_batch.to(device), y_batch.to(device)\n",
    "            optimizer.zero_grad()\n",
    "\n",
    "            y_pred = model(X_batch)\n",
    "\n",
    "            loss = loss_fn(y_pred, y_batch.unsqueeze(1))\n",
    "            acc = binary_acc(y_pred, y_batch.unsqueeze(1))\n",
    "\n",
    "            loss.backward()\n",
    "            optimizer.step()\n",
    "\n",
    "            epoch_loss += loss.item()\n",
    "            epoch_acc += acc.item()\n",
    "    return epoch_loss/len(train_loader), epoch_acc/len(train_loader)\n",
    "        \n",
    "def evaluate_model(model, test_loader, y_test):\n",
    "    \"\"\"Return the accuracy on a test or validation set\"\"\"\n",
    "    y_pred_list = []\n",
    "    model.eval()\n",
    "    with torch.no_grad():\n",
    "        for X_batch in test_loader:\n",
    "            X_batch = X_batch.to(device)\n",
    "            y_test_pred = model(X_batch)\n",
    "            y_test_pred = torch.sigmoid(y_test_pred)\n",
    "            y_pred_tag = torch.round(y_test_pred)\n",
    "            y_pred_list.append(y_pred_tag.cpu().numpy())\n",
    "    y_pred_list = [a.squeeze().tolist() for a in y_pred_list]\n",
    "    return np.mean(y_pred_list == y_test)"
   ]
  },
  {
   "cell_type": "code",
   "execution_count": 151,
   "metadata": {},
   "outputs": [
    {
     "name": "stdout",
     "output_type": "stream",
     "text": [
      "Width: 16| Depth: 2 | Activation: ReLU | Train Accuracy: 77.28368794326241 | Validation Accuracy: 0.7591921284308648\n",
      "Width: 16| Depth: 2 | Activation: tanh | Train Accuracy: 77.09219858156028 | Validation Accuracy: 0.7591921284308648\n",
      "Width: 16| Depth: 3 | Activation: ReLU | Train Accuracy: 77.0354609929078 | Validation Accuracy: 0.7607457276022787\n",
      "Width: 16| Depth: 3 | Activation: tanh | Train Accuracy: 76.95744680851064 | Validation Accuracy: 0.7622993267736924\n",
      "Width: 16| Depth: 4 | Activation: ReLU | Train Accuracy: 77.14893617021276 | Validation Accuracy: 0.7586742620403936\n",
      "Width: 16| Depth: 4 | Activation: tanh | Train Accuracy: 77.09219858156028 | Validation Accuracy: 0.7622993267736924\n",
      "Width: 32| Depth: 2 | Activation: ReLU | Train Accuracy: 77.38297872340425 | Validation Accuracy: 0.7659243915069912\n",
      "Width: 32| Depth: 2 | Activation: tanh | Train Accuracy: 76.8936170212766 | Validation Accuracy: 0.7602278612118073\n",
      "Width: 32| Depth: 3 | Activation: ReLU | Train Accuracy: 77.25531914893617 | Validation Accuracy: 0.7628171931641636\n",
      "Width: 32| Depth: 3 | Activation: tanh | Train Accuracy: 77.17021276595744 | Validation Accuracy: 0.7638529259451061\n",
      "Width: 32| Depth: 4 | Activation: ReLU | Train Accuracy: 77.34751773049645 | Validation Accuracy: 0.7591921284308648\n",
      "Width: 32| Depth: 4 | Activation: tanh | Train Accuracy: 77.09219858156028 | Validation Accuracy: 0.7612635939927499\n",
      "Width: 64| Depth: 2 | Activation: ReLU | Train Accuracy: 77.28368794326241 | Validation Accuracy: 0.7633350595546349\n",
      "Width: 64| Depth: 2 | Activation: tanh | Train Accuracy: 77.02836879432624 | Validation Accuracy: 0.7602278612118073\n",
      "Width: 64| Depth: 3 | Activation: ReLU | Train Accuracy: 77.35460992907801 | Validation Accuracy: 0.7648886587260487\n",
      "Width: 64| Depth: 3 | Activation: tanh | Train Accuracy: 77.07801418439716 | Validation Accuracy: 0.7607457276022787\n",
      "Width: 64| Depth: 4 | Activation: ReLU | Train Accuracy: 77.25531914893617 | Validation Accuracy: 0.76540652511652\n",
      "Width: 64| Depth: 4 | Activation: tanh | Train Accuracy: 77.12765957446808 | Validation Accuracy: 0.7602278612118073\n"
     ]
    }
   ],
   "source": [
    "widths = [16, 32, 64]\n",
    "depths = [2, 3, 4]\n",
    "activations = {torch.relu : 'ReLU', torch.tanh : 'tanh'}\n",
    "for width in widths:\n",
    "    for depth in depths:\n",
    "        for activation in activations.keys():\n",
    "            # Model , Optimizer, Loss\n",
    "            model = Net(input_shape=X_train.shape[1],width = width, depth = depth, activation = activation)\n",
    "            model.to(device)\n",
    "            train_loss, train_acc = train_model(model)\n",
    "            validation_acc = evaluate_model(model, validation_loader, y_val)\n",
    "            print(f'Width: {width}| Depth: {depth} | Activation: {activations[activation]} | Train Accuracy: {train_acc} | Validation Accuracy: {validation_acc}')"
   ]
  },
  {
   "cell_type": "code",
   "execution_count": 32,
   "metadata": {},
   "outputs": [],
   "source": [
    "# Include the validation set for training final model\n",
    "X_train = np.concatenate((X_train, X_val))\n",
    "y_train = np.concatenate((y, y_val))\n",
    "trainset = trainData(X_train,y_train)\n",
    "train_loader = DataLoader(trainset,batch_size=64,shuffle=False)"
   ]
  },
  {
   "cell_type": "code",
   "execution_count": 33,
   "metadata": {},
   "outputs": [
    {
     "data": {
      "text/plain": [
       "(0.5113394495687986, 77.44444444444444)"
      ]
     },
     "execution_count": 33,
     "metadata": {},
     "output_type": "execute_result"
    }
   ],
   "source": [
    "# Train best model\n",
    "width = 32\n",
    "depth = 2\n",
    "activation = torch.relu\n",
    "model = Net(input_shape=X_train.shape[1],width = width, depth = depth, activation = activation)\n",
    "model.to(device)\n",
    "train_model(model)"
   ]
  },
  {
   "cell_type": "code",
   "execution_count": 34,
   "metadata": {},
   "outputs": [],
   "source": [
    "y_pred_list = []\n",
    "model.eval()\n",
    "with torch.no_grad():\n",
    "    for X_batch in test_loader:\n",
    "        X_batch = X_batch.to(device)\n",
    "        y_test_pred = model(X_batch)\n",
    "        y_test_pred = torch.sigmoid(y_test_pred)\n",
    "        y_pred_tag = torch.round(y_test_pred)\n",
    "        y_pred_list.append(y_pred_tag.cpu().numpy())\n",
    "y_pred_list = [a.squeeze().tolist() for a in y_pred_list]"
   ]
  },
  {
   "cell_type": "code",
   "execution_count": 36,
   "metadata": {},
   "outputs": [
    {
     "name": "stdout",
     "output_type": "stream",
     "text": [
      "              precision    recall  f1-score   support\n",
      "\n",
      "           0      0.814     0.624     0.706       881\n",
      "           1      0.736     0.880     0.802      1050\n",
      "\n",
      "    accuracy                          0.763      1931\n",
      "   macro avg      0.775     0.752     0.754      1931\n",
      "weighted avg      0.772     0.763     0.758      1931\n",
      "\n",
      "[[550 331]\n",
      " [126 924]]\n",
      "Accuracy:\n",
      "0.7633350595546349\n"
     ]
    }
   ],
   "source": [
    "print(classification_report(y_test, y_pred_list, digits=3))\n",
    "print(confusion_matrix(y_test,y_pred_list))\n",
    "print(\"Accuracy:\")\n",
    "print(np.mean(y_pred_list == y_test))"
   ]
  },
  {
   "cell_type": "code",
   "execution_count": null,
   "metadata": {},
   "outputs": [],
   "source": []
  }
 ],
 "metadata": {
  "kernelspec": {
   "display_name": "Python 3",
   "language": "python",
   "name": "python3"
  },
  "language_info": {
   "codemirror_mode": {
    "name": "ipython",
    "version": 3
   },
   "file_extension": ".py",
   "mimetype": "text/x-python",
   "name": "python",
   "nbconvert_exporter": "python",
   "pygments_lexer": "ipython3",
   "version": "3.8.5"
  }
 },
 "nbformat": 4,
 "nbformat_minor": 4
}
